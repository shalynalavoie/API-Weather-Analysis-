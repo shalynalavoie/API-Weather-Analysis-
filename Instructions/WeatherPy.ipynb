{
 "cells": [
  {
   "cell_type": "markdown",
   "metadata": {},
   "source": [
    "# WeatherPy\n",
    "----\n",
    "\n",
    "#### Note\n",
    "* Instructions have been included for each segment. You do not have to follow them exactly, but they are included to help you think through the steps."
   ]
  },
  {
   "cell_type": "code",
   "execution_count": 13,
   "metadata": {
    "scrolled": true
   },
   "outputs": [],
   "source": [
    "# Dependencies and Setup\n",
    "import os\n",
    "import csv\n",
    "import matplotlib.pyplot as plt\n",
    "import pandas as pd\n",
    "import numpy as np\n",
    "import requests\n",
    "import time\n",
    "import json\n",
    "\n",
    "from scipy.stats import linregress\n",
    "\n",
    "# Import API key\n",
    "from api_keys import weather_api_key\n",
    "from api_keys import g_key\n",
    "# Incorporated citipy to determine city based on latitude and longitude\n",
    "from citipy import citipy\n",
    "\n",
    "# Output File (CSV)\n",
    "output_data_file = \"output_data/cities.csv\"\n",
    "\n",
    "\n",
    "\n",
    "\n",
    "# Range of latitudes and longitudes\n",
    "lat_range = (-90, 90)\n",
    "lng_range = (-180, 180)\n"
   ]
  },
  {
   "cell_type": "markdown",
   "metadata": {},
   "source": [
    "## Generate Cities List"
   ]
  },
  {
   "cell_type": "code",
   "execution_count": 8,
   "metadata": {},
   "outputs": [
    {
     "data": {
      "text/plain": [
       "613"
      ]
     },
     "execution_count": 8,
     "metadata": {},
     "output_type": "execute_result"
    }
   ],
   "source": [
    "# List for holding lat_lngs and cities\n",
    "lat_lngs = []\n",
    "cities = []\n",
    "\n",
    "# Create a set of random lat and lng combinations\n",
    "lats = np.random.uniform(lat_range[0], lat_range[1], size=1500)\n",
    "lngs = np.random.uniform(lng_range[0], lng_range[1], size=1500)\n",
    "lat_lngs = zip(lats, lngs)\n",
    "\n",
    "# Identify nearest city for each lat, lng combination\n",
    "for lat_lng in lat_lngs:\n",
    "    city = citipy.nearest_city(lat_lng[0], lat_lng[1]).city_name\n",
    "    \n",
    "    # If the city is unique, then add it to a our cities list\n",
    "    if city not in cities:\n",
    "        cities.append(city)\n",
    "\n",
    "# Print the city count to confirm sufficient count\n",
    "len(cities)"
   ]
  },
  {
   "cell_type": "markdown",
   "metadata": {},
   "source": [
    "### Perform API Calls\n",
    "* Perform a weather check on each city using a series of successive API calls.\n",
    "* Include a print log of each city as it'sbeing processed (with the city number and city name).\n"
   ]
  },
  {
   "cell_type": "code",
   "execution_count": 26,
   "metadata": {
    "scrolled": true
   },
   "outputs": [
    {
     "name": "stdout",
     "output_type": "stream",
     "text": [
      "Processing Record 1 of Set 1 : prince rupert\n",
      "Processing Record 2 of Set 1 : ribeira grande\n",
      "Processing Record 3 of Set 1 : rikitea\n",
      "Processing Record 4 of Set 1 : ravar\n",
      "Processing Record 5 of Set 1 : jamestown\n",
      "City not found. Skipping...\n",
      "City not found. Skipping...\n",
      "Processing Record 6 of Set 1 : springfield\n",
      "Processing Record 7 of Set 1 : albany\n",
      "Processing Record 8 of Set 1 : ushuaia\n",
      "Processing Record 9 of Set 1 : port alfred\n",
      "Processing Record 10 of Set 1 : egvekinot\n",
      "Processing Record 11 of Set 1 : verkhnetulomskiy\n",
      "Processing Record 12 of Set 1 : tuktoyaktuk\n",
      "Processing Record 13 of Set 1 : dikson\n",
      "Processing Record 14 of Set 1 : saint-joseph\n",
      "Processing Record 15 of Set 1 : la ronge\n",
      "Processing Record 16 of Set 1 : punta arenas\n",
      "Processing Record 17 of Set 1 : atuona\n",
      "Processing Record 18 of Set 1 : cape town\n",
      "Processing Record 19 of Set 1 : castro\n",
      "Processing Record 20 of Set 1 : kavieng\n",
      "Processing Record 21 of Set 1 : bredasdorp\n",
      "City not found. Skipping...\n",
      "Processing Record 22 of Set 1 : lida\n",
      "Processing Record 23 of Set 1 : tasiilaq\n",
      "City not found. Skipping...\n",
      "Processing Record 24 of Set 1 : tuatapere\n",
      "Processing Record 25 of Set 1 : bluff\n",
      "City not found. Skipping...\n",
      "Processing Record 26 of Set 1 : busselton\n",
      "Processing Record 27 of Set 1 : sakaiminato\n",
      "Processing Record 28 of Set 1 : gberia fotombu\n",
      "Processing Record 29 of Set 1 : lompoc\n",
      "Processing Record 30 of Set 1 : hami\n",
      "City not found. Skipping...\n",
      "Processing Record 31 of Set 1 : ormara\n",
      "Processing Record 32 of Set 1 : ancud\n",
      "City not found. Skipping...\n",
      "Processing Record 33 of Set 1 : puerto escondido\n",
      "Processing Record 34 of Set 1 : kismayo\n",
      "Processing Record 35 of Set 1 : hilo\n",
      "Processing Record 36 of Set 1 : svetlaya\n",
      "Processing Record 37 of Set 1 : port elizabeth\n",
      "Processing Record 38 of Set 1 : ilulissat\n",
      "Processing Record 39 of Set 1 : fort nelson\n",
      "Processing Record 40 of Set 1 : storforshei\n",
      "Processing Record 41 of Set 1 : srednekolymsk\n",
      "Processing Record 42 of Set 1 : kapaa\n",
      "Processing Record 43 of Set 1 : goderich\n",
      "Processing Record 44 of Set 1 : saint-philippe\n",
      "City not found. Skipping...\n",
      "Processing Record 45 of Set 1 : qaanaaq\n",
      "Processing Record 46 of Set 1 : pisco\n",
      "Processing Record 47 of Set 1 : champerico\n",
      "Processing Record 48 of Set 1 : clyde river\n",
      "City not found. Skipping...\n",
      "Processing Record 49 of Set 1 : lebu\n",
      "Processing Record 50 of Set 1 : kruisfontein\n",
      "Processing Record 0 of Set 2 : pangai\n",
      "Processing Record 1 of Set 2 : mahebourg\n",
      "Processing Record 2 of Set 2 : mataura\n",
      "Processing Record 3 of Set 2 : reconquista\n",
      "Processing Record 4 of Set 2 : porto nacional\n",
      "Processing Record 5 of Set 2 : angoche\n",
      "Processing Record 6 of Set 2 : cidreira\n",
      "Processing Record 7 of Set 2 : nara\n",
      "Processing Record 8 of Set 2 : olinda\n",
      "Processing Record 9 of Set 2 : jadu\n",
      "Processing Record 10 of Set 2 : pacific grove\n",
      "Processing Record 11 of Set 2 : yekaterinogradskaya\n",
      "Processing Record 12 of Set 2 : nyurba\n",
      "City not found. Skipping...\n",
      "Processing Record 13 of Set 2 : guerrero negro\n",
      "Processing Record 14 of Set 2 : korla\n",
      "Processing Record 15 of Set 2 : mackay\n",
      "Processing Record 16 of Set 2 : basco\n",
      "Processing Record 17 of Set 2 : farafangana\n",
      "Processing Record 18 of Set 2 : taltal\n",
      "Processing Record 19 of Set 2 : sotouboua\n",
      "Processing Record 20 of Set 2 : saint george\n",
      "Processing Record 21 of Set 2 : tiksi\n",
      "Processing Record 22 of Set 2 : navsari\n",
      "Processing Record 23 of Set 2 : sol-iletsk\n",
      "Processing Record 24 of Set 2 : bengkulu\n",
      "Processing Record 25 of Set 2 : sao joao da barra\n",
      "Processing Record 26 of Set 2 : mount gambier\n",
      "Processing Record 27 of Set 2 : upernavik\n",
      "City not found. Skipping...\n",
      "Processing Record 28 of Set 2 : kodiak\n",
      "Processing Record 29 of Set 2 : nanortalik\n",
      "Processing Record 30 of Set 2 : pevek\n",
      "Processing Record 31 of Set 2 : santa cruz de tenerife\n",
      "City not found. Skipping...\n",
      "Processing Record 32 of Set 2 : nanning\n",
      "Processing Record 33 of Set 2 : sapa\n",
      "Processing Record 34 of Set 2 : klaksvik\n",
      "Processing Record 35 of Set 2 : ostrovnoy\n",
      "Processing Record 36 of Set 2 : codrington\n",
      "Processing Record 37 of Set 2 : port lincoln\n",
      "Processing Record 38 of Set 2 : henties bay\n",
      "Processing Record 39 of Set 2 : faanui\n",
      "Processing Record 40 of Set 2 : souillac\n",
      "Processing Record 41 of Set 2 : lalpur\n",
      "Processing Record 42 of Set 2 : faya\n",
      "Processing Record 43 of Set 2 : saldanha\n",
      "Processing Record 44 of Set 2 : haines junction\n",
      "Processing Record 45 of Set 2 : vaitape\n",
      "Processing Record 46 of Set 2 : kaeo\n",
      "Processing Record 47 of Set 2 : cherdyn\n",
      "Processing Record 48 of Set 2 : sovkhoznyy\n",
      "Processing Record 49 of Set 2 : milford\n",
      "Processing Record 50 of Set 2 : lengshuijiang\n",
      "Processing Record 0 of Set 3 : mizdah\n",
      "Processing Record 1 of Set 3 : boa vista\n",
      "Processing Record 2 of Set 3 : talnakh\n",
      "City not found. Skipping...\n",
      "Processing Record 3 of Set 3 : thompson\n",
      "Processing Record 4 of Set 3 : broome\n",
      "Processing Record 5 of Set 3 : mar del plata\n",
      "Processing Record 6 of Set 3 : popondetta\n",
      "Processing Record 7 of Set 3 : poronaysk\n",
      "Processing Record 8 of Set 3 : yatou\n",
      "Processing Record 9 of Set 3 : butaritari\n",
      "Processing Record 10 of Set 3 : borgomanero\n",
      "Processing Record 11 of Set 3 : alice springs\n",
      "Processing Record 12 of Set 3 : mpulungu\n",
      "Processing Record 13 of Set 3 : sao felix do xingu\n",
      "Processing Record 14 of Set 3 : saint-georges\n",
      "Processing Record 15 of Set 3 : necochea\n",
      "Processing Record 16 of Set 3 : aleksandrov gay\n",
      "Processing Record 17 of Set 3 : new norfolk\n",
      "Processing Record 18 of Set 3 : anloga\n",
      "Processing Record 19 of Set 3 : ponta do sol\n",
      "Processing Record 20 of Set 3 : krasnoyarskiy\n",
      "Processing Record 21 of Set 3 : lavrentiya\n",
      "Processing Record 22 of Set 3 : richards bay\n",
      "Processing Record 23 of Set 3 : malakal\n",
      "Processing Record 24 of Set 3 : iqaluit\n",
      "Processing Record 25 of Set 3 : airai\n",
      "Processing Record 26 of Set 3 : chuy\n",
      "Processing Record 27 of Set 3 : avera\n",
      "Processing Record 28 of Set 3 : qianjiang\n",
      "Processing Record 29 of Set 3 : horodkivka\n",
      "Processing Record 30 of Set 3 : arraial do cabo\n",
      "Processing Record 31 of Set 3 : maragogi\n",
      "Processing Record 32 of Set 3 : tautira\n",
      "City not found. Skipping...\n",
      "Processing Record 33 of Set 3 : salalah\n",
      "Processing Record 34 of Set 3 : vaini\n",
      "Processing Record 35 of Set 3 : hay river\n",
      "Processing Record 36 of Set 3 : bago\n",
      "City not found. Skipping...\n",
      "Processing Record 37 of Set 3 : darnah\n",
      "Processing Record 38 of Set 3 : hambantota\n",
      "Processing Record 39 of Set 3 : luderitz\n",
      "Processing Record 40 of Set 3 : sabang\n",
      "Processing Record 41 of Set 3 : atherton\n",
      "Processing Record 42 of Set 3 : uaua\n",
      "Processing Record 43 of Set 3 : waingapu\n",
      "Processing Record 44 of Set 3 : berlevag\n",
      "Processing Record 45 of Set 3 : lufkin\n",
      "Processing Record 46 of Set 3 : mount isa\n",
      "Processing Record 47 of Set 3 : mehamn\n",
      "Processing Record 48 of Set 3 : dickinson\n",
      "Processing Record 49 of Set 3 : victoria\n",
      "Processing Record 50 of Set 3 : hobart\n",
      "Processing Record 0 of Set 4 : xichang\n",
      "Processing Record 1 of Set 4 : lagoa\n",
      "Processing Record 2 of Set 4 : batsfjord\n",
      "Processing Record 3 of Set 4 : raudeberg\n",
      "Processing Record 4 of Set 4 : tsabong\n",
      "Processing Record 5 of Set 4 : darlington\n",
      "Processing Record 6 of Set 4 : lorengau\n",
      "Processing Record 7 of Set 4 : cherskiy\n",
      "Processing Record 8 of Set 4 : gulbarga\n",
      "Processing Record 9 of Set 4 : bima\n",
      "Processing Record 10 of Set 4 : statesboro\n",
      "City not found. Skipping...\n",
      "Processing Record 11 of Set 4 : hermanus\n",
      "Processing Record 12 of Set 4 : nizwa\n",
      "Processing Record 13 of Set 4 : sungairaya\n",
      "Processing Record 14 of Set 4 : karratha\n",
      "Processing Record 15 of Set 4 : hithadhoo\n",
      "Processing Record 16 of Set 4 : nikolskoye\n",
      "Processing Record 17 of Set 4 : saskylakh\n",
      "Processing Record 18 of Set 4 : chara\n",
      "Processing Record 19 of Set 4 : aleysk\n",
      "City not found. Skipping...\n",
      "Processing Record 20 of Set 4 : college\n",
      "Processing Record 21 of Set 4 : longyearbyen\n",
      "Processing Record 22 of Set 4 : katsuura\n",
      "Processing Record 23 of Set 4 : ambon\n",
      "Processing Record 24 of Set 4 : barrow\n",
      "City not found. Skipping...\n",
      "Processing Record 25 of Set 4 : touros\n",
      "Processing Record 26 of Set 4 : takhtamygda\n",
      "Processing Record 27 of Set 4 : methoni\n",
      "Processing Record 28 of Set 4 : provideniya\n",
      "Processing Record 29 of Set 4 : kudahuvadhoo\n",
      "Processing Record 30 of Set 4 : zhigansk\n",
      "Processing Record 31 of Set 4 : tumaco\n",
      "Processing Record 32 of Set 4 : sayat\n",
      "Processing Record 33 of Set 4 : wakkanai\n"
     ]
    },
    {
     "name": "stdout",
     "output_type": "stream",
     "text": [
      "Processing Record 34 of Set 4 : shimoda\n",
      "Processing Record 35 of Set 4 : pasighat\n",
      "Processing Record 36 of Set 4 : westport\n",
      "Processing Record 37 of Set 4 : kenai\n",
      "Processing Record 38 of Set 4 : bambous virieux\n",
      "Processing Record 39 of Set 4 : aksu\n",
      "Processing Record 40 of Set 4 : georgetown\n",
      "Processing Record 41 of Set 4 : andenes\n",
      "Processing Record 42 of Set 4 : san quintin\n",
      "Processing Record 43 of Set 4 : san julian\n",
      "Processing Record 44 of Set 4 : puerto ayora\n",
      "Processing Record 45 of Set 4 : yar-sale\n",
      "Processing Record 46 of Set 4 : virginia beach\n",
      "Processing Record 47 of Set 4 : baft\n",
      "Processing Record 48 of Set 4 : komsomolskiy\n",
      "Processing Record 49 of Set 4 : goma\n",
      "City not found. Skipping...\n",
      "Processing Record 50 of Set 4 : inuvik\n",
      "Processing Record 0 of Set 5 : medea\n",
      "City not found. Skipping...\n",
      "Processing Record 1 of Set 5 : mandalgovi\n",
      "Processing Record 2 of Set 5 : acarau\n",
      "City not found. Skipping...\n",
      "Processing Record 3 of Set 5 : strezhevoy\n",
      "Processing Record 4 of Set 5 : humaita\n",
      "Processing Record 5 of Set 5 : qaqortoq\n",
      "Processing Record 6 of Set 5 : laguna\n",
      "Processing Record 7 of Set 5 : dudinka\n",
      "Processing Record 8 of Set 5 : east london\n",
      "Processing Record 9 of Set 5 : dingle\n",
      "Processing Record 10 of Set 5 : ust-kuyga\n",
      "Processing Record 11 of Set 5 : sibolga\n",
      "Processing Record 12 of Set 5 : aksarka\n",
      "Processing Record 13 of Set 5 : magsaysay\n",
      "Processing Record 14 of Set 5 : great falls\n",
      "Processing Record 15 of Set 5 : lima\n",
      "Processing Record 16 of Set 5 : sitka\n",
      "Processing Record 17 of Set 5 : marienburg\n",
      "Processing Record 18 of Set 5 : nhulunbuy\n",
      "Processing Record 19 of Set 5 : svetlogorsk\n",
      "Processing Record 20 of Set 5 : vyazma\n",
      "Processing Record 21 of Set 5 : glens falls\n",
      "Processing Record 22 of Set 5 : cockburn town\n",
      "Processing Record 23 of Set 5 : basoko\n",
      "City not found. Skipping...\n",
      "City not found. Skipping...\n",
      "Processing Record 24 of Set 5 : bud\n",
      "Processing Record 25 of Set 5 : maniitsoq\n",
      "Processing Record 26 of Set 5 : les cayes\n",
      "Processing Record 27 of Set 5 : chaman\n",
      "Processing Record 28 of Set 5 : aberdeen\n",
      "Processing Record 29 of Set 5 : nichinan\n",
      "Processing Record 30 of Set 5 : gat\n",
      "Processing Record 31 of Set 5 : oktyabrskiy\n",
      "Processing Record 32 of Set 5 : piet retief\n",
      "Processing Record 33 of Set 5 : bethel\n",
      "Processing Record 34 of Set 5 : abalak\n",
      "Processing Record 35 of Set 5 : sabzevar\n",
      "Processing Record 36 of Set 5 : nioro\n",
      "Processing Record 37 of Set 5 : nicoya\n",
      "Processing Record 38 of Set 5 : samarai\n",
      "City not found. Skipping...\n",
      "Processing Record 39 of Set 5 : banbury\n",
      "Processing Record 40 of Set 5 : sarankhola\n",
      "City not found. Skipping...\n",
      "Processing Record 41 of Set 5 : santa vitoria do palmar\n",
      "Processing Record 42 of Set 5 : zhangjiakou\n",
      "Processing Record 43 of Set 5 : geraldton\n",
      "Processing Record 44 of Set 5 : banda aceh\n",
      "Processing Record 45 of Set 5 : vilyuysk\n",
      "Processing Record 46 of Set 5 : ketchikan\n",
      "Processing Record 47 of Set 5 : jimenez\n",
      "Processing Record 48 of Set 5 : avarua\n",
      "Processing Record 49 of Set 5 : corinto\n",
      "Processing Record 50 of Set 5 : halifax\n",
      "Processing Record 0 of Set 6 : moron\n",
      "Processing Record 1 of Set 6 : tanete\n",
      "Processing Record 2 of Set 6 : mantua\n",
      "Processing Record 3 of Set 6 : ponta delgada\n",
      "Processing Record 4 of Set 6 : ginda\n",
      "Processing Record 5 of Set 6 : ahipara\n",
      "Processing Record 6 of Set 6 : kadoshkino\n",
      "Processing Record 7 of Set 6 : bachaquero\n",
      "Processing Record 8 of Set 6 : ulladulla\n",
      "Processing Record 9 of Set 6 : krasnyy chikoy\n",
      "Processing Record 10 of Set 6 : pilar\n",
      "Processing Record 11 of Set 6 : marawi\n",
      "Processing Record 12 of Set 6 : staryy oskol\n",
      "Processing Record 13 of Set 6 : piacabucu\n",
      "Processing Record 14 of Set 6 : mitu\n",
      "Processing Record 15 of Set 6 : gunjur\n",
      "Processing Record 16 of Set 6 : bogandinskiy\n",
      "Processing Record 17 of Set 6 : chokurdakh\n",
      "Processing Record 18 of Set 6 : harlingen\n",
      "Processing Record 19 of Set 6 : khatanga\n",
      "Processing Record 20 of Set 6 : muros\n",
      "Processing Record 21 of Set 6 : nelson bay\n",
      "Processing Record 22 of Set 6 : jaca\n",
      "Processing Record 23 of Set 6 : rio grande\n",
      "Processing Record 24 of Set 6 : iralaya\n",
      "Processing Record 25 of Set 6 : labuhan\n",
      "Processing Record 26 of Set 6 : seoul\n",
      "Processing Record 27 of Set 6 : hovd\n",
      "Processing Record 28 of Set 6 : cangzhou\n",
      "Processing Record 29 of Set 6 : cabo san lucas\n",
      "Processing Record 30 of Set 6 : adrar\n",
      "Processing Record 31 of Set 6 : saint-augustin\n",
      "Processing Record 32 of Set 6 : severo-kurilsk\n",
      "Processing Record 33 of Set 6 : maroantsetra\n",
      "Processing Record 34 of Set 6 : antalaha\n",
      "Processing Record 35 of Set 6 : burnie\n",
      "Processing Record 36 of Set 6 : isangel\n",
      "Processing Record 37 of Set 6 : vardo\n",
      "Processing Record 38 of Set 6 : barra patuca\n",
      "Processing Record 39 of Set 6 : iwanai\n",
      "Processing Record 40 of Set 6 : grindavik\n",
      "Processing Record 41 of Set 6 : dunedin\n",
      "Processing Record 42 of Set 6 : lucapa\n",
      "Processing Record 43 of Set 6 : husavik\n",
      "Processing Record 44 of Set 6 : portland\n",
      "Processing Record 45 of Set 6 : yumen\n",
      "Processing Record 46 of Set 6 : shingu\n",
      "Processing Record 47 of Set 6 : marquette\n",
      "Processing Record 48 of Set 6 : tskaltubo\n",
      "Processing Record 49 of Set 6 : puerto penasco\n",
      "Processing Record 50 of Set 6 : vyshkov\n",
      "Processing Record 0 of Set 7 : coihaique\n",
      "City not found. Skipping...\n",
      "Processing Record 1 of Set 7 : paciran\n",
      "Processing Record 2 of Set 7 : truckee\n",
      "Processing Record 3 of Set 7 : tornio\n",
      "Processing Record 4 of Set 7 : roald\n",
      "City not found. Skipping...\n",
      "Processing Record 5 of Set 7 : gushi\n",
      "Processing Record 6 of Set 7 : okhotsk\n",
      "Processing Record 7 of Set 7 : kavaratti\n",
      "Processing Record 8 of Set 7 : coquimbo\n",
      "Processing Record 9 of Set 7 : peleduy\n",
      "City not found. Skipping...\n",
      "City not found. Skipping...\n",
      "Processing Record 10 of Set 7 : buenos aires\n",
      "Processing Record 11 of Set 7 : new amsterdam\n",
      "Processing Record 12 of Set 7 : aden\n",
      "Processing Record 13 of Set 7 : boguchany\n",
      "Processing Record 14 of Set 7 : savalou\n",
      "Processing Record 15 of Set 7 : ambilobe\n",
      "Processing Record 16 of Set 7 : the valley\n",
      "Processing Record 17 of Set 7 : kaduqli\n",
      "Processing Record 18 of Set 7 : mindelo\n",
      "Processing Record 19 of Set 7 : sawai madhopur\n",
      "Processing Record 20 of Set 7 : vila franca do campo\n",
      "Processing Record 21 of Set 7 : biak\n",
      "Processing Record 22 of Set 7 : bella vista\n",
      "Processing Record 23 of Set 7 : fortuna\n",
      "Processing Record 24 of Set 7 : sao filipe\n",
      "Processing Record 25 of Set 7 : ambunti\n",
      "Processing Record 26 of Set 7 : vila\n",
      "Processing Record 27 of Set 7 : yeniseysk\n",
      "Processing Record 28 of Set 7 : jaru\n",
      "Processing Record 29 of Set 7 : ornskoldsvik\n",
      "City not found. Skipping...\n",
      "Processing Record 30 of Set 7 : opuwo\n",
      "Processing Record 31 of Set 7 : kushiro\n",
      "Processing Record 32 of Set 7 : ca mau\n",
      "Processing Record 33 of Set 7 : padang\n",
      "Processing Record 34 of Set 7 : port-gentil\n",
      "Processing Record 35 of Set 7 : victoria point\n",
      "Processing Record 36 of Set 7 : lydenburg\n",
      "Processing Record 37 of Set 7 : tessalit\n",
      "Processing Record 38 of Set 7 : san patricio\n",
      "Processing Record 39 of Set 7 : primorsk\n",
      "Processing Record 40 of Set 7 : wattegama\n",
      "Processing Record 41 of Set 7 : bintulu\n",
      "Processing Record 42 of Set 7 : bandarbeyla\n",
      "Processing Record 43 of Set 7 : kaitangata\n",
      "Processing Record 44 of Set 7 : shanghai\n",
      "Processing Record 45 of Set 7 : mosetse\n",
      "Processing Record 46 of Set 7 : merauke\n",
      "Processing Record 47 of Set 7 : wanning\n",
      "Processing Record 48 of Set 7 : yellowknife\n",
      "Processing Record 49 of Set 7 : emba\n",
      "Processing Record 50 of Set 7 : teahupoo\n",
      "Processing Record 0 of Set 8 : kibaya\n",
      "Processing Record 1 of Set 8 : vanimo\n",
      "City not found. Skipping...\n",
      "Processing Record 2 of Set 8 : sorland\n",
      "Processing Record 3 of Set 8 : amapa\n",
      "Processing Record 4 of Set 8 : elizabeth city\n",
      "Processing Record 5 of Set 8 : am timan\n",
      "Processing Record 6 of Set 8 : kongolo\n",
      "Processing Record 7 of Set 8 : carolina\n",
      "Processing Record 8 of Set 8 : brainerd\n",
      "Processing Record 9 of Set 8 : durban\n",
      "Processing Record 10 of Set 8 : tias\n",
      "Processing Record 11 of Set 8 : maceio\n",
      "Processing Record 12 of Set 8 : shasta lake\n",
      "Processing Record 13 of Set 8 : barahona\n",
      "Processing Record 14 of Set 8 : ciudad bolivar\n",
      "Processing Record 15 of Set 8 : chipinge\n",
      "Processing Record 16 of Set 8 : hattiesburg\n",
      "Processing Record 17 of Set 8 : antibes\n",
      "Processing Record 18 of Set 8 : taoudenni\n",
      "Processing Record 19 of Set 8 : chicama\n",
      "Processing Record 20 of Set 8 : kang\n",
      "Processing Record 21 of Set 8 : gelibolu\n"
     ]
    },
    {
     "name": "stdout",
     "output_type": "stream",
     "text": [
      "Processing Record 22 of Set 8 : daoukro\n",
      "Processing Record 23 of Set 8 : sindor\n",
      "Processing Record 24 of Set 8 : makakilo city\n",
      "Processing Record 25 of Set 8 : collie\n",
      "Processing Record 26 of Set 8 : scorze\n",
      "Processing Record 27 of Set 8 : kidal\n",
      "Processing Record 28 of Set 8 : dzaoudzi\n",
      "City not found. Skipping...\n",
      "Processing Record 29 of Set 8 : yugorsk\n",
      "Processing Record 30 of Set 8 : buraydah\n",
      "Processing Record 31 of Set 8 : sistranda\n",
      "Processing Record 32 of Set 8 : simao\n",
      "Processing Record 33 of Set 8 : nusaybin\n",
      "City not found. Skipping...\n",
      "Processing Record 34 of Set 8 : sengiley\n",
      "Processing Record 35 of Set 8 : marsh harbour\n",
      "Processing Record 36 of Set 8 : turayf\n",
      "City not found. Skipping...\n",
      "Processing Record 37 of Set 8 : hasaki\n",
      "Processing Record 38 of Set 8 : santiago de compostela\n",
      "Processing Record 39 of Set 8 : campbell river\n",
      "Processing Record 40 of Set 8 : salinas\n",
      "Processing Record 41 of Set 8 : baykit\n",
      "Processing Record 42 of Set 8 : gambela\n",
      "Processing Record 43 of Set 8 : leshukonskoye\n",
      "Processing Record 44 of Set 8 : aklavik\n",
      "Processing Record 45 of Set 8 : tobol\n",
      "Processing Record 46 of Set 8 : weihe\n",
      "City not found. Skipping...\n",
      "Processing Record 47 of Set 8 : esperance\n",
      "Processing Record 48 of Set 8 : port hedland\n",
      "City not found. Skipping...\n",
      "Processing Record 49 of Set 8 : selfoss\n",
      "Processing Record 50 of Set 8 : acapulco\n",
      "Processing Record 0 of Set 9 : cadereyta\n",
      "Processing Record 1 of Set 9 : gamovo\n",
      "Processing Record 2 of Set 9 : bilibino\n",
      "Processing Record 3 of Set 9 : tokmak\n",
      "Processing Record 4 of Set 9 : san luis\n",
      "Processing Record 5 of Set 9 : vieques\n",
      "Processing Record 6 of Set 9 : morehead\n",
      "Processing Record 7 of Set 9 : beloha\n",
      "Processing Record 8 of Set 9 : greenfield\n",
      "Processing Record 9 of Set 9 : yaguara\n",
      "Processing Record 10 of Set 9 : tchaourou\n",
      "Processing Record 11 of Set 9 : krasnoselkup\n",
      "Processing Record 12 of Set 9 : urengoy\n",
      "Processing Record 13 of Set 9 : harper\n",
      "Processing Record 14 of Set 9 : norman wells\n",
      "Processing Record 15 of Set 9 : grande-synthe\n",
      "Processing Record 16 of Set 9 : ugoofaaru\n",
      "Processing Record 17 of Set 9 : lewiston\n",
      "Processing Record 18 of Set 9 : illescas\n",
      "Processing Record 19 of Set 9 : khoy\n",
      "Processing Record 20 of Set 9 : bonga\n",
      "Processing Record 21 of Set 9 : biloela\n",
      "Processing Record 22 of Set 9 : nokaneng\n",
      "Processing Record 23 of Set 9 : sapulpa\n",
      "Processing Record 24 of Set 9 : vannes\n",
      "Processing Record 25 of Set 9 : san pietro in casale\n",
      "Processing Record 26 of Set 9 : nome\n",
      "Processing Record 27 of Set 9 : gao\n",
      "Processing Record 28 of Set 9 : broken hill\n",
      "Processing Record 29 of Set 9 : chumikan\n",
      "Processing Record 30 of Set 9 : antofagasta\n",
      "Processing Record 31 of Set 9 : bend\n",
      "Processing Record 32 of Set 9 : mae hong son\n",
      "Processing Record 33 of Set 9 : pimenta bueno\n",
      "Processing Record 34 of Set 9 : ouro preto do oeste\n",
      "Processing Record 35 of Set 9 : sheridan\n",
      "Processing Record 36 of Set 9 : kyshtovka\n",
      "Processing Record 37 of Set 9 : leningradskiy\n",
      "Processing Record 38 of Set 9 : berezayka\n",
      "City not found. Skipping...\n",
      "Processing Record 39 of Set 9 : khani\n",
      "Processing Record 40 of Set 9 : feldkirchen-westerham\n",
      "Processing Record 41 of Set 9 : kahului\n",
      "Processing Record 42 of Set 9 : ballina\n",
      "Processing Record 43 of Set 9 : panalingaan\n",
      "Processing Record 44 of Set 9 : champua\n",
      "Processing Record 45 of Set 9 : vokhtoga\n",
      "Processing Record 46 of Set 9 : waipawa\n",
      "Processing Record 47 of Set 9 : devils lake\n",
      "Processing Record 48 of Set 9 : xining\n",
      "Processing Record 49 of Set 9 : puerto lempira\n",
      "Processing Record 50 of Set 9 : lluta\n",
      "City not found. Skipping...\n",
      "Processing Record 0 of Set 10 : belaya gora\n",
      "Processing Record 1 of Set 10 : bazum\n",
      "City not found. Skipping...\n",
      "Processing Record 2 of Set 10 : itaituba\n",
      "Processing Record 3 of Set 10 : fontenay-le-comte\n",
      "Processing Record 4 of Set 10 : dwarka\n",
      "Processing Record 5 of Set 10 : bundaberg\n",
      "Processing Record 6 of Set 10 : mujiayingzi\n",
      "Processing Record 7 of Set 10 : catalao\n",
      "Processing Record 8 of Set 10 : constitucion\n",
      "Processing Record 9 of Set 10 : caledon\n",
      "City not found. Skipping...\n",
      "Processing Record 10 of Set 10 : plettenberg bay\n",
      "City not found. Skipping...\n",
      "Processing Record 11 of Set 10 : kongwa\n",
      "Processing Record 12 of Set 10 : carnarvon\n",
      "Processing Record 13 of Set 10 : la asuncion\n",
      "Processing Record 14 of Set 10 : yenagoa\n",
      "Processing Record 15 of Set 10 : azov\n",
      "Processing Record 16 of Set 10 : namatanai\n",
      "Processing Record 17 of Set 10 : genhe\n",
      "Processing Record 18 of Set 10 : lasa\n",
      "Processing Record 19 of Set 10 : saint anthony\n",
      "Processing Record 20 of Set 10 : sur\n",
      "Processing Record 21 of Set 10 : kyaikto\n",
      "Processing Record 22 of Set 10 : ust-maya\n",
      "Processing Record 23 of Set 10 : sembakung\n",
      "Processing Record 24 of Set 10 : masiga\n",
      "Processing Record 25 of Set 10 : chapleau\n",
      "Processing Record 26 of Set 10 : sibuco\n",
      "Processing Record 27 of Set 10 : vila velha\n",
      "Processing Record 28 of Set 10 : houma\n",
      "Processing Record 29 of Set 10 : dukat\n",
      "Processing Record 30 of Set 10 : spencer\n",
      "Processing Record 31 of Set 10 : livingston\n",
      "Processing Record 32 of Set 10 : poum\n",
      "Processing Record 33 of Set 10 : kawalu\n",
      "City not found. Skipping...\n",
      "City not found. Skipping...\n",
      "Processing Record 34 of Set 10 : altamira\n",
      "Processing Record 35 of Set 10 : torbay\n",
      "Processing Record 36 of Set 10 : luba\n",
      "Processing Record 37 of Set 10 : beringovskiy\n",
      "Processing Record 38 of Set 10 : los llanos de aridane\n",
      "Processing Record 39 of Set 10 : rio rancho\n",
      "City not found. Skipping...\n",
      "Processing Record 40 of Set 10 : half moon bay\n",
      "Processing Record 41 of Set 10 : kieta\n",
      "Processing Record 42 of Set 10 : novodmitriyevskaya\n",
      "Processing Record 43 of Set 10 : chokwe\n",
      "Processing Record 44 of Set 10 : kloulklubed\n",
      "Processing Record 45 of Set 10 : tura\n",
      "Processing Record 46 of Set 10 : morros\n",
      "Processing Record 47 of Set 10 : rocha\n",
      "Processing Record 48 of Set 10 : leh\n",
      "Processing Record 49 of Set 10 : bonthe\n",
      "Processing Record 50 of Set 10 : alakurtti\n",
      "Processing Record 0 of Set 11 : teya\n",
      "Processing Record 1 of Set 11 : san vicente\n",
      "Processing Record 2 of Set 11 : lubango\n",
      "Processing Record 3 of Set 11 : mahibadhoo\n",
      "Processing Record 4 of Set 11 : saint-francois\n",
      "Processing Record 5 of Set 11 : nizhniy odes\n",
      "Processing Record 6 of Set 11 : copiapo\n",
      "Processing Record 7 of Set 11 : yurty\n",
      "Processing Record 8 of Set 11 : sioux lookout\n",
      "Processing Record 9 of Set 11 : malindi\n",
      "Processing Record 10 of Set 11 : pokhara\n",
      "Processing Record 11 of Set 11 : penha\n",
      "Processing Record 12 of Set 11 : channel-port aux basques\n",
      "City not found. Skipping...\n",
      "Processing Record 13 of Set 11 : auki\n",
      "Processing Record 14 of Set 11 : sayyan\n",
      "Processing Record 15 of Set 11 : quang ngai\n",
      "Processing Record 16 of Set 11 : coos bay\n",
      "Processing Record 17 of Set 11 : viedma\n",
      "Processing Record 18 of Set 11 : ler\n",
      "Processing Record 19 of Set 11 : gigmoto\n",
      "Processing Record 20 of Set 11 : boyolangu\n",
      "Processing Record 21 of Set 11 : evensk\n",
      "Processing Record 22 of Set 11 : lethem\n",
      "Processing Record 23 of Set 11 : varhaug\n",
      "Processing Record 24 of Set 11 : huarmey\n",
      "Processing Record 25 of Set 11 : pocoes\n",
      "Processing Record 26 of Set 11 : zhezkazgan\n",
      "Processing Record 27 of Set 11 : namibe\n",
      "Processing Record 28 of Set 11 : canico\n",
      "Processing Record 29 of Set 11 : coruripe\n",
      "Processing Record 30 of Set 11 : fujin\n",
      "Processing Record 31 of Set 11 : grenville\n",
      "City not found. Skipping...\n",
      "City not found. Skipping...\n",
      "Processing Record 32 of Set 11 : razole\n",
      "Processing Record 33 of Set 11 : magadan\n",
      "Processing Record 34 of Set 11 : lodhikheda\n",
      "Processing Record 35 of Set 11 : abu samrah\n",
      "Processing Record 36 of Set 11 : mehran\n",
      "Processing Record 37 of Set 11 : nouadhibou\n",
      "Processing Record 38 of Set 11 : peruibe\n",
      "Processing Record 39 of Set 11 : lokosovo\n",
      "Processing Record 40 of Set 11 : riviere-au-renard\n",
      "Processing Record 41 of Set 11 : ossora\n",
      "Processing Record 42 of Set 11 : qasigiannguit\n",
      "Processing Record 43 of Set 11 : monrovia\n",
      "Processing Record 44 of Set 11 : ambatofinandrahana\n",
      "City not found. Skipping...\n",
      "Processing Record 45 of Set 11 : liverpool\n",
      "Processing Record 46 of Set 11 : bathsheba\n",
      "Processing Record 47 of Set 11 : oranjemund\n",
      "Processing Record 48 of Set 11 : yingcheng\n",
      "Processing Record 49 of Set 11 : bafra\n",
      "Processing Record 50 of Set 11 : ixtapa\n",
      "Processing Record 0 of Set 12 : celestun\n",
      "Processing Record 1 of Set 12 : alexandria\n",
      "Processing Record 2 of Set 12 : homagama\n"
     ]
    },
    {
     "name": "stdout",
     "output_type": "stream",
     "text": [
      "Processing Record 3 of Set 12 : atasu\n",
      "Processing Record 4 of Set 12 : resavica\n",
      "-----------------------------\n",
      "Data Retrieval Complete\n",
      "-----------------------------\n"
     ]
    }
   ],
   "source": [
    "url = \"http://api.openweathermap.org/data/2.5/weather?\"\n",
    "units = \"metric\"\n",
    "\n",
    "# Build partial query URL\n",
    "query_url = f\"{url}appid={weather_api_key}&units={units}&q=\"\n",
    "\n",
    "\n",
    "\n",
    "city_name = []\n",
    "cloudiness = []\n",
    "country = []\n",
    "date = []\n",
    "humidity = []\n",
    "lat = []\n",
    "lng = []\n",
    "max_temp = []\n",
    "wind_speed = []\n",
    "index_counter = 0\n",
    "set_counter = 1\n",
    "\n",
    "for index, city in enumerate(cities, start = 1):\n",
    "    try:\n",
    "        response = requests.get(query_url + city).json()\n",
    "        city_name.append(response[\"name\"])\n",
    "        cloudiness.append(response[\"clouds\"][\"all\"])\n",
    "        country.append(response[\"sys\"][\"country\"])\n",
    "        date.append(response[\"dt\"])\n",
    "        humidity.append(response[\"main\"][\"humidity\"])\n",
    "        lat.append(response[\"coord\"][\"lat\"])\n",
    "        lng.append(response[\"coord\"][\"lon\"])\n",
    "        max_temp.append(response['main']['temp_max'])\n",
    "        wind_speed.append(response[\"wind\"][\"speed\"])\n",
    "        if index_counter > 49:\n",
    "            index_counter = 0\n",
    "            set_counter = set_counter + 1\n",
    "    \n",
    "        else:\n",
    "            index_counter = index_counter + 1\n",
    "            \n",
    "        print(f\"Processing Record {index_counter} of Set {set_counter} : {city}\") \n",
    "  \n",
    "    except(KeyError, IndexError):\n",
    "        print(\"City not found. Skipping...\")\n",
    "\n",
    "print(\"-----------------------------\")\n",
    "print(\"Data Retrieval Complete\")\n",
    "print(\"-----------------------------\")"
   ]
  },
  {
   "cell_type": "markdown",
   "metadata": {},
   "source": [
    "### Convert Raw Data to DataFrame\n",
    "* Export the city data into a .csv.\n",
    "* Display the DataFrame"
   ]
  },
  {
   "cell_type": "code",
   "execution_count": 27,
   "metadata": {},
   "outputs": [],
   "source": [
    "weather_dict = pd.DataFrame({ \n",
    "                \"City\" : city_name,\n",
    "                \"Cloudiness\" : cloudiness,\n",
    "                \"Country\" : country,\n",
    "                \"Date\" : date,\n",
    "                \"Humidity\" : humidity,\n",
    "                \"Lat\" : lat,\n",
    "                \"Lng\" : lng,\n",
    "                \"Max Temp\" : max_temp,\n",
    "                \"Wind Speed\" : wind_speed\n",
    "})"
   ]
  },
  {
   "cell_type": "code",
   "execution_count": 31,
   "metadata": {
    "scrolled": true
   },
   "outputs": [
    {
     "data": {
      "text/html": [
       "<div>\n",
       "<style scoped>\n",
       "    .dataframe tbody tr th:only-of-type {\n",
       "        vertical-align: middle;\n",
       "    }\n",
       "\n",
       "    .dataframe tbody tr th {\n",
       "        vertical-align: top;\n",
       "    }\n",
       "\n",
       "    .dataframe thead th {\n",
       "        text-align: right;\n",
       "    }\n",
       "</style>\n",
       "<table border=\"1\" class=\"dataframe\">\n",
       "  <thead>\n",
       "    <tr style=\"text-align: right;\">\n",
       "      <th></th>\n",
       "      <th>Lat</th>\n",
       "      <th>Lng</th>\n",
       "      <th>Max Temp</th>\n",
       "      <th>Humidity</th>\n",
       "      <th>Cloudiness</th>\n",
       "      <th>Wind Speed</th>\n",
       "      <th>Date</th>\n",
       "    </tr>\n",
       "  </thead>\n",
       "  <tbody>\n",
       "    <tr>\n",
       "      <th>0</th>\n",
       "      <td>54.3161</td>\n",
       "      <td>-130.3201</td>\n",
       "      <td>8.00</td>\n",
       "      <td>93</td>\n",
       "      <td>75</td>\n",
       "      <td>2.06</td>\n",
       "      <td>1619009488</td>\n",
       "    </tr>\n",
       "    <tr>\n",
       "      <th>1</th>\n",
       "      <td>38.5167</td>\n",
       "      <td>-28.7000</td>\n",
       "      <td>17.00</td>\n",
       "      <td>94</td>\n",
       "      <td>75</td>\n",
       "      <td>7.72</td>\n",
       "      <td>1619009539</td>\n",
       "    </tr>\n",
       "    <tr>\n",
       "      <th>2</th>\n",
       "      <td>-23.1203</td>\n",
       "      <td>-134.9692</td>\n",
       "      <td>25.07</td>\n",
       "      <td>75</td>\n",
       "      <td>74</td>\n",
       "      <td>3.01</td>\n",
       "      <td>1619009539</td>\n",
       "    </tr>\n",
       "    <tr>\n",
       "      <th>3</th>\n",
       "      <td>31.2656</td>\n",
       "      <td>56.8055</td>\n",
       "      <td>30.31</td>\n",
       "      <td>10</td>\n",
       "      <td>40</td>\n",
       "      <td>5.23</td>\n",
       "      <td>1619009539</td>\n",
       "    </tr>\n",
       "    <tr>\n",
       "      <th>4</th>\n",
       "      <td>42.0970</td>\n",
       "      <td>-79.2353</td>\n",
       "      <td>-1.11</td>\n",
       "      <td>100</td>\n",
       "      <td>90</td>\n",
       "      <td>6.17</td>\n",
       "      <td>1619009540</td>\n",
       "    </tr>\n",
       "    <tr>\n",
       "      <th>...</th>\n",
       "      <td>...</td>\n",
       "      <td>...</td>\n",
       "      <td>...</td>\n",
       "      <td>...</td>\n",
       "      <td>...</td>\n",
       "      <td>...</td>\n",
       "      <td>...</td>\n",
       "    </tr>\n",
       "    <tr>\n",
       "      <th>560</th>\n",
       "      <td>20.8667</td>\n",
       "      <td>-90.4000</td>\n",
       "      <td>25.25</td>\n",
       "      <td>83</td>\n",
       "      <td>31</td>\n",
       "      <td>2.84</td>\n",
       "      <td>1619009711</td>\n",
       "    </tr>\n",
       "    <tr>\n",
       "      <th>561</th>\n",
       "      <td>31.2156</td>\n",
       "      <td>29.9553</td>\n",
       "      <td>21.00</td>\n",
       "      <td>56</td>\n",
       "      <td>0</td>\n",
       "      <td>7.20</td>\n",
       "      <td>1619009712</td>\n",
       "    </tr>\n",
       "    <tr>\n",
       "      <th>562</th>\n",
       "      <td>6.8440</td>\n",
       "      <td>80.0024</td>\n",
       "      <td>30.00</td>\n",
       "      <td>74</td>\n",
       "      <td>40</td>\n",
       "      <td>4.12</td>\n",
       "      <td>1619009712</td>\n",
       "    </tr>\n",
       "    <tr>\n",
       "      <th>563</th>\n",
       "      <td>48.6814</td>\n",
       "      <td>71.6433</td>\n",
       "      <td>6.69</td>\n",
       "      <td>37</td>\n",
       "      <td>7</td>\n",
       "      <td>6.17</td>\n",
       "      <td>1619009712</td>\n",
       "    </tr>\n",
       "    <tr>\n",
       "      <th>564</th>\n",
       "      <td>44.0408</td>\n",
       "      <td>21.5816</td>\n",
       "      <td>13.33</td>\n",
       "      <td>38</td>\n",
       "      <td>38</td>\n",
       "      <td>3.39</td>\n",
       "      <td>1619009713</td>\n",
       "    </tr>\n",
       "  </tbody>\n",
       "</table>\n",
       "<p>565 rows × 7 columns</p>\n",
       "</div>"
      ],
      "text/plain": [
       "         Lat       Lng  Max Temp  Humidity  Cloudiness  Wind Speed        Date\n",
       "0    54.3161 -130.3201      8.00        93          75        2.06  1619009488\n",
       "1    38.5167  -28.7000     17.00        94          75        7.72  1619009539\n",
       "2   -23.1203 -134.9692     25.07        75          74        3.01  1619009539\n",
       "3    31.2656   56.8055     30.31        10          40        5.23  1619009539\n",
       "4    42.0970  -79.2353     -1.11       100          90        6.17  1619009540\n",
       "..       ...       ...       ...       ...         ...         ...         ...\n",
       "560  20.8667  -90.4000     25.25        83          31        2.84  1619009711\n",
       "561  31.2156   29.9553     21.00        56           0        7.20  1619009712\n",
       "562   6.8440   80.0024     30.00        74          40        4.12  1619009712\n",
       "563  48.6814   71.6433      6.69        37           7        6.17  1619009712\n",
       "564  44.0408   21.5816     13.33        38          38        3.39  1619009713\n",
       "\n",
       "[565 rows x 7 columns]"
      ]
     },
     "execution_count": 31,
     "metadata": {},
     "output_type": "execute_result"
    }
   ],
   "source": [
    "weatherclean_dict = {\"Lat\": lat, \"Lng\": lng, \"Max Temp\": max_temp, \"Humidity\": humidity, \"Cloudiness\": cloudiness, \"Wind Speed\": wind_speed, \"Date\": date}\n",
    "weatherclean_data = pd.DataFrame(weatherclean_dict)\n",
    "weatherclean_data"
   ]
  },
  {
   "cell_type": "code",
   "execution_count": 32,
   "metadata": {},
   "outputs": [
    {
     "data": {
      "text/plain": [
       "Lat           565\n",
       "Lng           565\n",
       "Max Temp      565\n",
       "Humidity      565\n",
       "Cloudiness    565\n",
       "Wind Speed    565\n",
       "Date          565\n",
       "dtype: int64"
      ]
     },
     "execution_count": 32,
     "metadata": {},
     "output_type": "execute_result"
    }
   ],
   "source": [
    "weatherclean_data.count()"
   ]
  },
  {
   "cell_type": "markdown",
   "metadata": {},
   "source": [
    "## Inspect the data and remove the cities where the humidity > 100%.\n",
    "----\n",
    "Skip this step if there are no cities that have humidity > 100%. "
   ]
  },
  {
   "cell_type": "code",
   "execution_count": 34,
   "metadata": {},
   "outputs": [
    {
     "data": {
      "text/plain": [
       "Lat           7.821860e+01\n",
       "Lng           1.793167e+02\n",
       "Max Temp      4.129000e+01\n",
       "Humidity      1.000000e+02\n",
       "Cloudiness    1.000000e+02\n",
       "Wind Speed    1.504000e+01\n",
       "Date          1.619010e+09\n",
       "dtype: float64"
      ]
     },
     "execution_count": 34,
     "metadata": {},
     "output_type": "execute_result"
    }
   ],
   "source": [
    "weatherclean_data.max()"
   ]
  },
  {
   "cell_type": "code",
   "execution_count": 17,
   "metadata": {},
   "outputs": [
    {
     "data": {
      "text/plain": [
       "Int64Index([], dtype='int64')"
      ]
     },
     "execution_count": 17,
     "metadata": {},
     "output_type": "execute_result"
    }
   ],
   "source": [
    "#  Get the indices of cities that have humidity over 100%.\n"
   ]
  },
  {
   "cell_type": "code",
   "execution_count": 19,
   "metadata": {},
   "outputs": [
    {
     "data": {
      "text/html": [
       "<div>\n",
       "<style scoped>\n",
       "    .dataframe tbody tr th:only-of-type {\n",
       "        vertical-align: middle;\n",
       "    }\n",
       "\n",
       "    .dataframe tbody tr th {\n",
       "        vertical-align: top;\n",
       "    }\n",
       "\n",
       "    .dataframe thead th {\n",
       "        text-align: right;\n",
       "    }\n",
       "</style>\n",
       "<table border=\"1\" class=\"dataframe\">\n",
       "  <thead>\n",
       "    <tr style=\"text-align: right;\">\n",
       "      <th></th>\n",
       "      <th>City</th>\n",
       "      <th>Lat</th>\n",
       "      <th>Lng</th>\n",
       "      <th>Max Temp</th>\n",
       "      <th>Humidity</th>\n",
       "      <th>Cloudiness</th>\n",
       "      <th>Wind Speed</th>\n",
       "      <th>Country</th>\n",
       "      <th>Date</th>\n",
       "    </tr>\n",
       "  </thead>\n",
       "  <tbody>\n",
       "    <tr>\n",
       "      <td>0</td>\n",
       "      <td>butaritari</td>\n",
       "      <td>3.07</td>\n",
       "      <td>172.79</td>\n",
       "      <td>83.32</td>\n",
       "      <td>74</td>\n",
       "      <td>84</td>\n",
       "      <td>10.42</td>\n",
       "      <td>KI</td>\n",
       "      <td>1593605283</td>\n",
       "    </tr>\n",
       "    <tr>\n",
       "      <td>1</td>\n",
       "      <td>yerbogachen</td>\n",
       "      <td>61.28</td>\n",
       "      <td>108.01</td>\n",
       "      <td>79.52</td>\n",
       "      <td>58</td>\n",
       "      <td>20</td>\n",
       "      <td>7.70</td>\n",
       "      <td>RU</td>\n",
       "      <td>1593605121</td>\n",
       "    </tr>\n",
       "    <tr>\n",
       "      <td>2</td>\n",
       "      <td>cape town</td>\n",
       "      <td>-33.93</td>\n",
       "      <td>18.42</td>\n",
       "      <td>73.00</td>\n",
       "      <td>77</td>\n",
       "      <td>27</td>\n",
       "      <td>4.70</td>\n",
       "      <td>ZA</td>\n",
       "      <td>1593605039</td>\n",
       "    </tr>\n",
       "    <tr>\n",
       "      <td>3</td>\n",
       "      <td>touba</td>\n",
       "      <td>8.28</td>\n",
       "      <td>-7.68</td>\n",
       "      <td>79.97</td>\n",
       "      <td>75</td>\n",
       "      <td>82</td>\n",
       "      <td>3.58</td>\n",
       "      <td>CI</td>\n",
       "      <td>1593605284</td>\n",
       "    </tr>\n",
       "    <tr>\n",
       "      <td>4</td>\n",
       "      <td>jamestown</td>\n",
       "      <td>42.10</td>\n",
       "      <td>-79.24</td>\n",
       "      <td>64.00</td>\n",
       "      <td>88</td>\n",
       "      <td>1</td>\n",
       "      <td>6.93</td>\n",
       "      <td>US</td>\n",
       "      <td>1593605284</td>\n",
       "    </tr>\n",
       "  </tbody>\n",
       "</table>\n",
       "</div>"
      ],
      "text/plain": [
       "          City    Lat     Lng  Max Temp  Humidity  Cloudiness  Wind Speed  \\\n",
       "0   butaritari   3.07  172.79     83.32        74          84       10.42   \n",
       "1  yerbogachen  61.28  108.01     79.52        58          20        7.70   \n",
       "2    cape town -33.93   18.42     73.00        77          27        4.70   \n",
       "3        touba   8.28   -7.68     79.97        75          82        3.58   \n",
       "4    jamestown  42.10  -79.24     64.00        88           1        6.93   \n",
       "\n",
       "  Country        Date  \n",
       "0      KI  1593605283  \n",
       "1      RU  1593605121  \n",
       "2      ZA  1593605039  \n",
       "3      CI  1593605284  \n",
       "4      US  1593605284  "
      ]
     },
     "execution_count": 19,
     "metadata": {},
     "output_type": "execute_result"
    }
   ],
   "source": [
    "# Make a new DataFrame equal to the city data to drop all humidity outliers by index.\n",
    "# Passing \"inplace=False\" will make a copy of the city_data DataFrame, which we call \"clean_city_data\".\n"
   ]
  },
  {
   "cell_type": "code",
   "execution_count": null,
   "metadata": {},
   "outputs": [],
   "source": [
    "\n"
   ]
  },
  {
   "cell_type": "markdown",
   "metadata": {},
   "source": [
    "## Plotting the Data\n",
    "* Use proper labeling of the plots using plot titles (including date of analysis) and axes labels.\n",
    "* Save the plotted figures as .pngs."
   ]
  },
  {
   "cell_type": "markdown",
   "metadata": {},
   "source": [
    "## Latitude vs. Temperature Plot"
   ]
  },
  {
   "cell_type": "code",
   "execution_count": 71,
   "metadata": {
    "scrolled": true
   },
   "outputs": [
    {
     "data": {
      "image/png": "[encoded data removed]",
      "text/plain": [
       "<Figure size 432x288 with 1 Axes>"
      ]
     },
     "metadata": {
      "needs_background": "light"
     },
     "output_type": "display_data"
    }
   ],
   "source": [
    "\n",
    "# Create Latitude vs. Temperature Plot scatter plot\n",
    "plt.scatter(weatherclean_data[\"Lat\"], weatherclean_data[\"Max Temp\"], facecolor = \"steelblue\", edgecolor = \"black\")\n",
    "\n",
    "# Set title\n",
    "plt.title(\"City Latitude vs. Max Temperature\")\n",
    "\n",
    "# Set x axis label\n",
    "plt.xlabel(\"Latitude\")\n",
    "\n",
    "# Set y axis label\n",
    "plt.ylabel(\"Max Temperature (F)\")\n",
    "\n",
    "# Set grid line\n",
    "plt.grid(linestyle='-', linewidth=1, alpha = 0.5)"
   ]
  },
  {
   "cell_type": "markdown",
   "metadata": {},
   "source": [
    "## Latitude vs. Humidity Plot"
   ]
  },
  {
   "cell_type": "code",
   "execution_count": 51,
   "metadata": {},
   "outputs": [
    {
     "data": {
      "image/png": "[encoded data removed]",
      "text/plain": [
       "<Figure size 432x288 with 1 Axes>"
      ]
     },
     "metadata": {
      "needs_background": "light"
     },
     "output_type": "display_data"
    }
   ],
   "source": [
    "# Create Latitude vs. Temperature Plot scatter plot\n",
    "plt.scatter(weatherclean_data[\"Lat\"], weatherclean_data[\"Humidity\"], facecolor = \"steelblue\", edgecolor = \"black\")\n",
    "\n",
    "# Set title\n",
    "plt.title(\"City Latitude vs. Humidity\")\n",
    "\n",
    "# Set x axis label\n",
    "plt.xlabel(\"Latitude\")\n",
    "\n",
    "# Set y axis label\n",
    "plt.ylabel(\"Humidity\")\n",
    "\n",
    "# Set grid line\n",
    "plt.grid(linestyle='-', linewidth=1, alpha = 0.5)"
   ]
  },
  {
   "cell_type": "markdown",
   "metadata": {},
   "source": [
    "## Latitude vs. Cloudiness Plot"
   ]
  },
  {
   "cell_type": "code",
   "execution_count": 46,
   "metadata": {},
   "outputs": [
    {
     "data": {
      "image/png": "[encoded data removed]",
      "text/plain": [
       "<Figure size 432x288 with 1 Axes>"
      ]
     },
     "metadata": {
      "needs_background": "light"
     },
     "output_type": "display_data"
    }
   ],
   "source": [
    "plt.scatter(weatherclean_data[\"Lat\"], weatherclean_data[\"Cloudiness\"], facecolor = \"steelblue\", edgecolor = \"black\")\n",
    "\n",
    "# Set title\n",
    "plt.title(\"City Latitude vs. Cloudiness\")\n",
    "\n",
    "# Set x axis label\n",
    "plt.xlabel(\"Latitude\")\n",
    "\n",
    "# Set y axis label\n",
    "plt.ylabel(\"Cloudiness\")\n",
    "\n",
    "# Set grid line\n",
    "plt.grid(linestyle='-', linewidth=1, alpha = 0.5)"
   ]
  },
  {
   "cell_type": "markdown",
   "metadata": {},
   "source": [
    "## Latitude vs. Wind Speed Plot"
   ]
  },
  {
   "cell_type": "code",
   "execution_count": 58,
   "metadata": {},
   "outputs": [
    {
     "data": {
      "image/png": "[encoded data removed]",
      "text/plain": [
       "<Figure size 432x288 with 1 Axes>"
      ]
     },
     "metadata": {
      "needs_background": "light"
     },
     "output_type": "display_data"
    }
   ],
   "source": [
    "plt.scatter(weatherclean_data[\"Lat\"], weatherclean_data[\"Wind Speed\"], facecolor = \"steelblue\", edgecolor = \"black\")\n",
    "\n",
    "# Set title\n",
    "plt.title(\"City Latitude vs. Max Temperature\")\n",
    "\n",
    "# Set x axis label\n",
    "plt.xlabel(\"Latitude\")\n",
    "\n",
    "# Set y axis label\n",
    "plt.ylabel(\"Wind Speed\")\n",
    "\n",
    "# Set grid line\n",
    "plt.grid(linestyle='-', linewidth=1, alpha = 0.5)\n",
    "\n"
   ]
  },
  {
   "cell_type": "markdown",
   "metadata": {},
   "source": [
    "## Linear Regression"
   ]
  },
  {
   "cell_type": "code",
   "execution_count": 55,
   "metadata": {},
   "outputs": [
    {
     "data": {
      "text/html": [
       "<div>\n",
       "<style scoped>\n",
       "    .dataframe tbody tr th:only-of-type {\n",
       "        vertical-align: middle;\n",
       "    }\n",
       "\n",
       "    .dataframe tbody tr th {\n",
       "        vertical-align: top;\n",
       "    }\n",
       "\n",
       "    .dataframe thead th {\n",
       "        text-align: right;\n",
       "    }\n",
       "</style>\n",
       "<table border=\"1\" class=\"dataframe\">\n",
       "  <thead>\n",
       "    <tr style=\"text-align: right;\">\n",
       "      <th></th>\n",
       "      <th>Lat</th>\n",
       "      <th>Lng</th>\n",
       "      <th>Max Temp</th>\n",
       "      <th>Humidity</th>\n",
       "      <th>Cloudiness</th>\n",
       "      <th>Wind Speed</th>\n",
       "      <th>Date</th>\n",
       "    </tr>\n",
       "  </thead>\n",
       "  <tbody>\n",
       "    <tr>\n",
       "      <th>0</th>\n",
       "      <td>54.3161</td>\n",
       "      <td>-130.3201</td>\n",
       "      <td>8.00</td>\n",
       "      <td>93</td>\n",
       "      <td>75</td>\n",
       "      <td>2.06</td>\n",
       "      <td>1619009488</td>\n",
       "    </tr>\n",
       "    <tr>\n",
       "      <th>1</th>\n",
       "      <td>38.5167</td>\n",
       "      <td>-28.7000</td>\n",
       "      <td>17.00</td>\n",
       "      <td>94</td>\n",
       "      <td>75</td>\n",
       "      <td>7.72</td>\n",
       "      <td>1619009539</td>\n",
       "    </tr>\n",
       "    <tr>\n",
       "      <th>3</th>\n",
       "      <td>31.2656</td>\n",
       "      <td>56.8055</td>\n",
       "      <td>30.31</td>\n",
       "      <td>10</td>\n",
       "      <td>40</td>\n",
       "      <td>5.23</td>\n",
       "      <td>1619009539</td>\n",
       "    </tr>\n",
       "    <tr>\n",
       "      <th>4</th>\n",
       "      <td>42.0970</td>\n",
       "      <td>-79.2353</td>\n",
       "      <td>-1.11</td>\n",
       "      <td>100</td>\n",
       "      <td>90</td>\n",
       "      <td>6.17</td>\n",
       "      <td>1619009540</td>\n",
       "    </tr>\n",
       "    <tr>\n",
       "      <th>5</th>\n",
       "      <td>37.2153</td>\n",
       "      <td>-93.2982</td>\n",
       "      <td>0.56</td>\n",
       "      <td>86</td>\n",
       "      <td>90</td>\n",
       "      <td>2.57</td>\n",
       "      <td>1619009311</td>\n",
       "    </tr>\n",
       "  </tbody>\n",
       "</table>\n",
       "</div>"
      ],
      "text/plain": [
       "       Lat       Lng  Max Temp  Humidity  Cloudiness  Wind Speed        Date\n",
       "0  54.3161 -130.3201      8.00        93          75        2.06  1619009488\n",
       "1  38.5167  -28.7000     17.00        94          75        7.72  1619009539\n",
       "3  31.2656   56.8055     30.31        10          40        5.23  1619009539\n",
       "4  42.0970  -79.2353     -1.11       100          90        6.17  1619009540\n",
       "5  37.2153  -93.2982      0.56        86          90        2.57  1619009311"
      ]
     },
     "execution_count": 55,
     "metadata": {},
     "output_type": "execute_result"
    }
   ],
   "source": [
    "northernhemisphere_df = weatherclean_data[weatherclean_data['Lat'] >= 0]\n",
    "northernhemisphere_df.head()\n"
   ]
  },
  {
   "cell_type": "markdown",
   "metadata": {},
   "source": [
    "####  Northern Hemisphere - Max Temp vs. Latitude Linear Regression"
   ]
  },
  {
   "cell_type": "code",
   "execution_count": 60,
   "metadata": {},
   "outputs": [
    {
     "name": "stdout",
     "output_type": "stream",
     "text": [
      "The r-value is: 0.713893567277432\n"
     ]
    },
    {
     "data": {
      "image/png": "[encoded data removed]",
      "text/plain": [
       "<Figure size 432x288 with 1 Axes>"
      ]
     },
     "metadata": {
      "needs_background": "light"
     },
     "output_type": "display_data"
    }
   ],
   "source": [
    "\n",
    "#Create Scatter plot for max temp vs Lat\n",
    "x_values = northernhemisphere_df['Lat']\n",
    "y_values = northernhemisphere_df['Max Temp']\n",
    "plt.scatter(x_values,y_values)\n",
    "plt.title('City Latitude vs. Max Temperature (04/14/21)')\n",
    "plt.xlabel('Latitude')\n",
    "plt.ylabel('Max Temperature (F)')\n",
    "\n",
    "# Perform a linear regression on temperature vs. latitude\n",
    "(slope, intercept, rvalue, pvalue, stderr) = linregress(x_values, y_values)\n",
    "\n",
    "# Get regression values\n",
    "regress_values = x_values * slope + intercept\n",
    "\n",
    "# Create line equation string\n",
    "line_eq = \"y = \" + str(round(slope,2)) + \"x +\" + str(round(intercept,2))\n",
    "\n",
    "#Plot Linear regression\n",
    "plt.plot(x_values,regress_values,\"r-\")\n",
    "plt.annotate(line_eq,(26,72),fontsize=10,color=\"red\")\n",
    "\n",
    "# Print r value\n",
    "print(f\"The r-value is: {rvalue**2}\")\n",
    "\n",
    "#Show plot\n",
    "plt.show()"
   ]
  },
  {
   "cell_type": "markdown",
   "metadata": {},
   "source": [
    "####  Southern Hemisphere - Max Temp vs. Latitude Linear Regression"
   ]
  },
  {
   "cell_type": "code",
   "execution_count": 63,
   "metadata": {},
   "outputs": [
    {
     "data": {
      "text/html": [
       "<div>\n",
       "<style scoped>\n",
       "    .dataframe tbody tr th:only-of-type {\n",
       "        vertical-align: middle;\n",
       "    }\n",
       "\n",
       "    .dataframe tbody tr th {\n",
       "        vertical-align: top;\n",
       "    }\n",
       "\n",
       "    .dataframe thead th {\n",
       "        text-align: right;\n",
       "    }\n",
       "</style>\n",
       "<table border=\"1\" class=\"dataframe\">\n",
       "  <thead>\n",
       "    <tr style=\"text-align: right;\">\n",
       "      <th></th>\n",
       "      <th>Lat</th>\n",
       "      <th>Lng</th>\n",
       "      <th>Max Temp</th>\n",
       "      <th>Humidity</th>\n",
       "      <th>Cloudiness</th>\n",
       "      <th>Wind Speed</th>\n",
       "      <th>Date</th>\n",
       "    </tr>\n",
       "  </thead>\n",
       "  <tbody>\n",
       "    <tr>\n",
       "      <th>2</th>\n",
       "      <td>-23.1203</td>\n",
       "      <td>-134.9692</td>\n",
       "      <td>25.07</td>\n",
       "      <td>75</td>\n",
       "      <td>74</td>\n",
       "      <td>3.01</td>\n",
       "      <td>1619009539</td>\n",
       "    </tr>\n",
       "    <tr>\n",
       "      <th>7</th>\n",
       "      <td>-54.8000</td>\n",
       "      <td>-68.3000</td>\n",
       "      <td>9.00</td>\n",
       "      <td>43</td>\n",
       "      <td>75</td>\n",
       "      <td>2.76</td>\n",
       "      <td>1619009476</td>\n",
       "    </tr>\n",
       "    <tr>\n",
       "      <th>8</th>\n",
       "      <td>-33.5906</td>\n",
       "      <td>26.8910</td>\n",
       "      <td>23.96</td>\n",
       "      <td>67</td>\n",
       "      <td>100</td>\n",
       "      <td>6.14</td>\n",
       "      <td>1619009540</td>\n",
       "    </tr>\n",
       "    <tr>\n",
       "      <th>13</th>\n",
       "      <td>-21.3667</td>\n",
       "      <td>55.6167</td>\n",
       "      <td>26.00</td>\n",
       "      <td>78</td>\n",
       "      <td>90</td>\n",
       "      <td>7.72</td>\n",
       "      <td>1619009542</td>\n",
       "    </tr>\n",
       "    <tr>\n",
       "      <th>15</th>\n",
       "      <td>-53.1500</td>\n",
       "      <td>-70.9167</td>\n",
       "      <td>-1.00</td>\n",
       "      <td>80</td>\n",
       "      <td>0</td>\n",
       "      <td>2.06</td>\n",
       "      <td>1619009542</td>\n",
       "    </tr>\n",
       "  </tbody>\n",
       "</table>\n",
       "</div>"
      ],
      "text/plain": [
       "        Lat       Lng  Max Temp  Humidity  Cloudiness  Wind Speed        Date\n",
       "2  -23.1203 -134.9692     25.07        75          74        3.01  1619009539\n",
       "7  -54.8000  -68.3000      9.00        43          75        2.76  1619009476\n",
       "8  -33.5906   26.8910     23.96        67         100        6.14  1619009540\n",
       "13 -21.3667   55.6167     26.00        78          90        7.72  1619009542\n",
       "15 -53.1500  -70.9167     -1.00        80           0        2.06  1619009542"
      ]
     },
     "execution_count": 63,
     "metadata": {},
     "output_type": "execute_result"
    }
   ],
   "source": [
    "southernhemisphere_df = weatherclean_data[weatherclean_data['Lat'] < 0]\n",
    "southernhemisphere_df.head()"
   ]
  },
  {
   "cell_type": "code",
   "execution_count": null,
   "metadata": {},
   "outputs": [],
   "source": [
    "\n"
   ]
  },
  {
   "cell_type": "markdown",
   "metadata": {},
   "source": [
    "####  Northern Hemisphere - Humidity (%) vs. Latitude Linear Regression"
   ]
  },
  {
   "cell_type": "code",
   "execution_count": 61,
   "metadata": {},
   "outputs": [
    {
     "name": "stdout",
     "output_type": "stream",
     "text": [
      "The r-value is: 0.015724655121784385\n"
     ]
    },
    {
     "data": {
      "image/png": "[encoded data removed]",
      "text/plain": [
       "<Figure size 432x288 with 1 Axes>"
      ]
     },
     "metadata": {
      "needs_background": "light"
     },
     "output_type": "display_data"
    }
   ],
   "source": [
    "\n",
    "#Create Scatter plot for max temp vs Lat\n",
    "x_values = northernhemisphere_df['Lat']\n",
    "y_values = northernhemisphere_df['Humidity']\n",
    "plt.scatter(x_values,y_values)\n",
    "plt.title('City Latitude vs. Humidity (04/21/21)')\n",
    "plt.xlabel('Latitude')\n",
    "plt.ylabel('Humidity')\n",
    "\n",
    "# Perform a linear regression on temperature vs. latitude\n",
    "(slope, intercept, rvalue, pvalue, stderr) = linregress(x_values, y_values)\n",
    "\n",
    "# Get regression values\n",
    "regress_values = x_values * slope + intercept\n",
    "\n",
    "# Create line equation string\n",
    "line_eq = \"y = \" + str(round(slope,2)) + \"x +\" + str(round(intercept,2))\n",
    "\n",
    "#Plot Linear regression\n",
    "plt.plot(x_values,regress_values,\"r-\")\n",
    "plt.annotate(line_eq,(26,72),fontsize=10,color=\"red\")\n",
    "\n",
    "# Print r value\n",
    "print(f\"The r-value is: {rvalue**2}\")\n",
    "\n",
    "#Show plot\n",
    "plt.show()"
   ]
  },
  {
   "cell_type": "markdown",
   "metadata": {},
   "source": [
    "####  Southern Hemisphere - Humidity (%) vs. Latitude Linear Regression"
   ]
  },
  {
   "cell_type": "code",
   "execution_count": 64,
   "metadata": {},
   "outputs": [
    {
     "name": "stdout",
     "output_type": "stream",
     "text": [
      "The r-value is: 0.0003944299478929493\n"
     ]
    },
    {
     "data": {
      "image/png": "[encoded data removed]",
      "text/plain": [
       "<Figure size 432x288 with 1 Axes>"
      ]
     },
     "metadata": {
      "needs_background": "light"
     },
     "output_type": "display_data"
    }
   ],
   "source": [
    "#Create Scatter plot for max temp vs Lat\n",
    "x_values = southernhemisphere_df['Lat']\n",
    "y_values = southernhemisphere_df['Humidity']\n",
    "plt.scatter(x_values,y_values)\n",
    "plt.title('City Latitude vs. Humidity (04/21/21)')\n",
    "plt.xlabel('Latitude')\n",
    "plt.ylabel('Humidity')\n",
    "\n",
    "# Perform a linear regression on temperature vs. latitude\n",
    "(slope, intercept, rvalue, pvalue, stderr) = linregress(x_values, y_values)\n",
    "\n",
    "# Get regression values\n",
    "regress_values = x_values * slope + intercept\n",
    "\n",
    "# Create line equation string\n",
    "line_eq = \"y = \" + str(round(slope,2)) + \"x +\" + str(round(intercept,2))\n",
    "\n",
    "#Plot Linear regression\n",
    "plt.plot(x_values,regress_values,\"r-\")\n",
    "plt.annotate(line_eq,(26,72),fontsize=10,color=\"red\")\n",
    "\n",
    "# Print r value\n",
    "print(f\"The r-value is: {rvalue**2}\")\n",
    "\n",
    "#Show plot\n",
    "plt.show()"
   ]
  },
  {
   "cell_type": "markdown",
   "metadata": {},
   "source": [
    "####  Northern Hemisphere - Cloudiness (%) vs. Latitude Linear Regression"
   ]
  },
  {
   "cell_type": "code",
   "execution_count": 66,
   "metadata": {},
   "outputs": [
    {
     "name": "stdout",
     "output_type": "stream",
     "text": [
      "The r-value is: 0.001015024902320282\n"
     ]
    },
    {
     "data": {
      "image/png": "[encoded data removed]",
      "text/plain": [
       "<Figure size 432x288 with 1 Axes>"
      ]
     },
     "metadata": {
      "needs_background": "light"
     },
     "output_type": "display_data"
    }
   ],
   "source": [
    "#Create Scatter plot for max temp vs Lat\n",
    "x_values = northernhemisphere_df['Lat']\n",
    "y_values = northernhemisphere_df['Cloudiness']\n",
    "plt.scatter(x_values,y_values)\n",
    "plt.title('City Latitude vs. Cloudiness (04/21/21)')\n",
    "plt.xlabel('Latitude')\n",
    "plt.ylabel('Cloudiness')\n",
    "\n",
    "# Perform a linear regression on temperature vs. latitude\n",
    "(slope, intercept, rvalue, pvalue, stderr) = linregress(x_values, y_values)\n",
    "\n",
    "# Get regression values\n",
    "regress_values = x_values * slope + intercept\n",
    "\n",
    "# Create line equation string\n",
    "line_eq = \"y = \" + str(round(slope,2)) + \"x +\" + str(round(intercept,2))\n",
    "\n",
    "#Plot Linear regression\n",
    "plt.plot(x_values,regress_values,\"r-\")\n",
    "plt.annotate(line_eq,(26,72),fontsize=10,color=\"red\")\n",
    "\n",
    "# Print r value\n",
    "print(f\"The r-value is: {rvalue**2}\")\n",
    "\n",
    "#Show plot\n",
    "plt.show()"
   ]
  },
  {
   "cell_type": "markdown",
   "metadata": {},
   "source": [
    "####  Southern Hemisphere - Cloudiness (%) vs. Latitude Linear Regression"
   ]
  },
  {
   "cell_type": "code",
   "execution_count": 70,
   "metadata": {},
   "outputs": [
    {
     "name": "stdout",
     "output_type": "stream",
     "text": [
      "The r-value is: 0.006551147996288136\n"
     ]
    },
    {
     "data": {
      "image/png": "[encoded data removed]",
      "text/plain": [
       "<Figure size 432x288 with 1 Axes>"
      ]
     },
     "metadata": {
      "needs_background": "light"
     },
     "output_type": "display_data"
    }
   ],
   "source": [
    "#Create Scatter plot for max temp vs Lat\n",
    "x_values = southernhemisphere_df['Lat']\n",
    "y_values = southernhemisphere_df['Cloudiness']\n",
    "plt.scatter(x_values,y_values)\n",
    "plt.title('City Latitude vs. Cloudiness (04/21/21)')\n",
    "plt.xlabel('Latitude')\n",
    "plt.ylabel('Cloudiness')\n",
    "\n",
    "# Perform a linear regression on temperature vs. latitude\n",
    "(slope, intercept, rvalue, pvalue, stderr) = linregress(x_values, y_values)\n",
    "\n",
    "# Get regression values\n",
    "regress_values = x_values * slope + intercept\n",
    "\n",
    "# Create line equation string\n",
    "line_eq = \"y = \" + str(round(slope,2)) + \"x +\" + str(round(intercept,2))\n",
    "\n",
    "#Plot Linear regression\n",
    "plt.plot(x_values,regress_values,\"r-\")\n",
    "plt.annotate(line_eq,(26,72),fontsize=10,color=\"red\")\n",
    "\n",
    "# Print r value\n",
    "print(f\"The r-value is: {rvalue**2}\")\n",
    "\n",
    "#Show plot\n",
    "plt.show()"
   ]
  },
  {
   "cell_type": "markdown",
   "metadata": {},
   "source": [
    "####  Northern Hemisphere - Wind Speed (mph) vs. Latitude Linear Regression"
   ]
  },
  {
   "cell_type": "code",
   "execution_count": 68,
   "metadata": {},
   "outputs": [
    {
     "name": "stdout",
     "output_type": "stream",
     "text": [
      "The r-value is: 0.01220798444008304\n"
     ]
    },
    {
     "data": {
      "image/png": "[encoded data removed]",
      "text/plain": [
       "<Figure size 432x288 with 1 Axes>"
      ]
     },
     "metadata": {
      "needs_background": "light"
     },
     "output_type": "display_data"
    }
   ],
   "source": [
    "#Create Scatter plot for max temp vs Lat\n",
    "x_values = northernhemisphere_df['Lat']\n",
    "y_values = northernhemisphere_df['Wind Speed']\n",
    "plt.scatter(x_values,y_values)\n",
    "plt.title('City Latitude vs. Wind Speed (04/21/21)')\n",
    "plt.xlabel('Latitude')\n",
    "plt.ylabel('Wind Speed')\n",
    "\n",
    "# Perform a linear regression on temperature vs. latitude\n",
    "(slope, intercept, rvalue, pvalue, stderr) = linregress(x_values, y_values)\n",
    "\n",
    "# Get regression values\n",
    "regress_values = x_values * slope + intercept\n",
    "\n",
    "# Create line equation string\n",
    "line_eq = \"y = \" + str(round(slope,2)) + \"x +\" + str(round(intercept,2))\n",
    "\n",
    "#Plot Linear regression\n",
    "plt.plot(x_values,regress_values,\"r-\")\n",
    "plt.annotate(line_eq,(26,72),fontsize=10,color=\"red\")\n",
    "\n",
    "# Print r value\n",
    "print(f\"The r-value is: {rvalue**2}\")\n",
    "\n",
    "#Show plot\n",
    "plt.show()"
   ]
  },
  {
   "cell_type": "markdown",
   "metadata": {},
   "source": [
    "####  Southern Hemisphere - Wind Speed (mph) vs. Latitude Linear Regression"
   ]
  },
  {
   "cell_type": "code",
   "execution_count": 69,
   "metadata": {},
   "outputs": [
    {
     "name": "stdout",
     "output_type": "stream",
     "text": [
      "The r-value is: 0.08365238204499464\n"
     ]
    },
    {
     "data": {
      "image/png": "[encoded data removed]",
      "text/plain": [
       "<Figure size 432x288 with 1 Axes>"
      ]
     },
     "metadata": {
      "needs_background": "light"
     },
     "output_type": "display_data"
    }
   ],
   "source": [
    "#Create Scatter plot for max temp vs Lat\n",
    "x_values = southernhemisphere_df['Lat']\n",
    "y_values = southernhemisphere_df['Wind Speed']\n",
    "plt.scatter(x_values,y_values)\n",
    "plt.title('City Latitude vs. Wind Speed (04/21/21)')\n",
    "plt.xlabel('Latitude')\n",
    "plt.ylabel('Wind Speed')\n",
    "\n",
    "# Perform a linear regression on temperature vs. latitude\n",
    "(slope, intercept, rvalue, pvalue, stderr) = linregress(x_values, y_values)\n",
    "\n",
    "# Get regression values\n",
    "regress_values = x_values * slope + intercept\n",
    "\n",
    "# Create line equation string\n",
    "line_eq = \"y = \" + str(round(slope,2)) + \"x +\" + str(round(intercept,2))\n",
    "\n",
    "#Plot Linear regression\n",
    "plt.plot(x_values,regress_values,\"r-\")\n",
    "plt.annotate(line_eq,(26,72),fontsize=10,color=\"red\")\n",
    "\n",
    "# Print r value\n",
    "print(f\"The r-value is: {rvalue**2}\")\n",
    "\n",
    "#Show plot\n",
    "plt.show()"
   ]
  },
  {
   "cell_type": "code",
   "execution_count": null,
   "metadata": {},
   "outputs": [],
   "source": []
  }
 ],
 "metadata": {
  "anaconda-cloud": {},
  "kernel_info": {
   "name": "python3"
  },
  "kernelspec": {
   "display_name": "Python [conda env:PythonData] *",
   "language": "python",
   "name": "conda-env-PythonData-py"
  },
  "language_info": {
   "codemirror_mode": {
    "name": "ipython",
    "version": 3
   },
   "file_extension": ".py",
   "mimetype": "text/x-python",
   "name": "python",
   "nbconvert_exporter": "python",
   "pygments_lexer": "ipython3",
   "version": "3.6.13"
  },
  "latex_envs": {
   "LaTeX_envs_menu_present": true,
   "autoclose": false,
   "autocomplete": true,
   "bibliofile": "biblio.bib",
   "cite_by": "apalike",
   "current_citInitial": 1,
   "eqLabelWithNumbers": true,
   "eqNumInitial": 1,
   "hotkeys": {
    "equation": "Ctrl-E",
    "itemize": "Ctrl-I"
   },
   "labels_anchors": false,
   "latex_user_defs": false,
   "report_style_numbering": false,
   "user_envs_cfg": false
  },
  "nteract": {
   "version": "0.12.3"
  }
 },
 "nbformat": 4,
 "nbformat_minor": 2
}
